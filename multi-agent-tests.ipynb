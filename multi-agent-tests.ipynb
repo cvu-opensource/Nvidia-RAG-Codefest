{
 "cells": [
  {
   "cell_type": "markdown",
   "metadata": {},
   "source": [
    "# Multi Agent Testing"
   ]
  },
  {
   "cell_type": "markdown",
   "metadata": {},
   "source": [
    "## Requirements"
   ]
  },
  {
   "cell_type": "code",
   "execution_count": 2,
   "metadata": {},
   "outputs": [],
   "source": [
    "# Requirements\n",
    "!pip install langchain==0.2.5\n",
    "!pip install langchain_community==0.2.5\n",
    "!pip install faiss-gpu # replace with faiss-gpu if you are using GPU\n",
    "# !pip install faiss-cpu\n",
    "!pip install langchain-nvidia-ai-endpoints==0.1.2\n",
    "!pip install requests pdfplumber spacy camelot-py \n",
    "!pip install pandas==2 numpy==1.26.4 \n",
    "!pip install beautifulsoup4 \n",
    "!pip install pymupdf\n",
    "!pip install lxml\n",
    "!pip install unstructured\n",
    "!pip install langgraph"
   ]
  },
  {
   "cell_type": "markdown",
   "metadata": {},
   "source": [
    "## Imports"
   ]
  },
  {
   "cell_type": "code",
   "execution_count": 4,
   "metadata": {},
   "outputs": [],
   "source": [
    "import getpass\n",
    "import os\n",
    "\n",
    "nvidia_api_key = getpass.getpass(\"Enter your NVIDIA API key: \")\n",
    "assert nvidia_api_key.startswith(\"nvapi-\"), f\"{nvidia_api_key[:5]}... is not a valid key\"\n",
    "os.environ[\"NVIDIA_API_KEY\"] = nvidia_api_key"
   ]
  },
  {
   "cell_type": "code",
   "execution_count": 6,
   "metadata": {},
   "outputs": [],
   "source": [
    "LANGCHAIN_TRACING_V2=True\n",
    "LANGCHAIN_ENDPOINT=\"https://api.smith.langchain.com\"\n",
    "LANGCHAIN_API_KEY=\"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\"\n",
    "LANGCHAIN_PROJECT=\"multi-agent-tests\""
   ]
  },
  {
   "cell_type": "code",
   "execution_count": 9,
   "metadata": {},
   "outputs": [
    {
     "data": {
      "text/plain": [
       "AIMessage(content=\"Hello! I'm here to help you with any questions you have about data structures and algorithms. Is there something specific you'd like to know?\\n\\nData structures and algorithms are fundamental concepts in computer science that are used to solve problems efficiently. Data structures are ways of organizing data so that they can be accessed and modified efficiently. Algorithms are step-by-step procedures for solving problems, often using data structures to store and manipulate data.\\n\\nHere are a few examples of common data structures and algorithms:\\n\\n* Arrays, linked lists, stacks, and queues are all types of data structures that can be used to store collections of data.\\n* Sorting algorithms, such as bubble sort, insertion sort, and merge sort, can be used to sort a collection of data in a particular order.\\n* Search algorithms, such as linear search and binary search, can be used to find a specific piece of data in a collection.\\n\\nDo you have any specific questions about data structures or algorithms? I'm here to help!\", additional_kwargs={}, response_metadata={'role': 'assistant', 'content': \"Hello! I'm here to help you with any questions you have about data structures and algorithms. Is there something specific you'd like to know?\\n\\nData structures and algorithms are fundamental concepts in computer science that are used to solve problems efficiently. Data structures are ways of organizing data so that they can be accessed and modified efficiently. Algorithms are step-by-step procedures for solving problems, often using data structures to store and manipulate data.\\n\\nHere are a few examples of common data structures and algorithms:\\n\\n* Arrays, linked lists, stacks, and queues are all types of data structures that can be used to store collections of data.\\n* Sorting algorithms, such as bubble sort, insertion sort, and merge sort, can be used to sort a collection of data in a particular order.\\n* Search algorithms, such as linear search and binary search, can be used to find a specific piece of data in a collection.\\n\\nDo you have any specific questions about data structures or algorithms? I'm here to help!\", 'token_usage': {'prompt_tokens': 13, 'total_tokens': 232, 'completion_tokens': 219}, 'finish_reason': 'stop', 'model_name': 'mistralai/mixtral-8x7b-instruct-v0.1'}, id='run-0f23f667-11a8-4979-9c58-1c6c1fd1061f-0', usage_metadata={'input_tokens': 13, 'output_tokens': 219, 'total_tokens': 232}, role='assistant')"
      ]
     },
     "execution_count": 9,
     "metadata": {},
     "output_type": "execute_result"
    }
   ],
   "source": [
    "from langchain_nvidia_ai_endpoints import ChatNVIDIA\n",
    "\n",
    "llm = ChatNVIDIA(model=\"mistralai/mixtral-8x7b-instruct-v0.1\", max_tokens=1024)\n",
    "\n",
    "llm.invoke(\"Hello, world!\")"
   ]
  }
 ],
 "metadata": {
  "kernelspec": {
   "display_name": "venv",
   "language": "python",
   "name": "python3"
  },
  "language_info": {
   "codemirror_mode": {
    "name": "ipython",
    "version": 3
   },
   "file_extension": ".py",
   "mimetype": "text/x-python",
   "name": "python",
   "nbconvert_exporter": "python",
   "pygments_lexer": "ipython3",
   "version": "3.11.9"
  }
 },
 "nbformat": 4,
 "nbformat_minor": 2
}
