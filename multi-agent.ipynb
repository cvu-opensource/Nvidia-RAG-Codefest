{
 "cells": [
  {
   "cell_type": "markdown",
   "metadata": {},
   "source": [
    "# Multi Agent Testing\n",
    "\n",
    "Testing on multi-agent system\n",
    "\n",
    "Current progress:\n",
    "\n",
    "Implement the 3 tools the model may use"
   ]
  },
  {
   "cell_type": "markdown",
   "metadata": {},
   "source": [
    "## Requirements"
   ]
  },
  {
   "cell_type": "code",
   "execution_count": null,
   "metadata": {},
   "outputs": [
    {
     "name": "stdout",
     "output_type": "stream",
     "text": [
      "Note: you may need to restart the kernel to use updated packages.\n"
     ]
    }
   ],
   "source": [
    "%pip install multi-agent-requirements.txt"
   ]
  },
  {
   "cell_type": "markdown",
   "metadata": {},
   "source": [
    "## Imports"
   ]
  },
  {
   "cell_type": "code",
   "execution_count": null,
   "metadata": {},
   "outputs": [],
   "source": [
    "from IPython.display import Image, display\n",
    "import getpass\n",
    "import os\n",
    "from typing import Annotated, Literal\n",
    "from typing_extensions import TypedDict\n",
    "from langgraph.graph.message import add_messages\n",
    "from langgraph.graph import StateGraph, START, END\n",
    "from langchain_nvidia_ai_endpoints import ChatNVIDIA\n",
    "from langchain_core.messages.ai import AIMessage\n",
    "from langchain_core.tools import tool\n",
    "from langgraph.prebuilt import ToolNode\n",
    "from collections.abc import Iterable\n",
    "from random import randint\n",
    "from langgraph.prebuilt import InjectedState\n",
    "from langchain_core.messages.tool import ToolMessage\n"
   ]
  },
  {
   "cell_type": "markdown",
   "metadata": {},
   "source": [
    "## NVIDIA NIM API KEY"
   ]
  },
  {
   "cell_type": "code",
   "execution_count": 29,
   "metadata": {},
   "outputs": [],
   "source": [
    "nvidia_api_key = getpass.getpass(\"Enter your NVIDIA API key: \")\n",
    "assert nvidia_api_key.startswith(\"nvapi-\"), f\"{nvidia_api_key[:5]}... is not a valid key\"\n",
    "os.environ[\"NVIDIA_API_KEY\"] = nvidia_api_key"
   ]
  },
  {
   "cell_type": "markdown",
   "metadata": {},
   "source": [
    "## Reference Scripts\n",
    "\n",
    "https://www.kaggle.com/code/lejieng/day-3-building-an-agent-with-langgraph"
   ]
  },
  {
   "cell_type": "markdown",
   "metadata": {},
   "source": [
    "### Core Instructions"
   ]
  },
  {
   "cell_type": "code",
   "execution_count": null,
   "metadata": {},
   "outputs": [],
   "source": [
    "class Conversation(TypedDict):\n",
    "    \"\"\"State representing the customer's conversation.\"\"\"\n",
    "\n",
    "    # The chat conversation. This preserves the conversation history\n",
    "    # between nodes. The `add_messages` annotation indicates to LangGraph\n",
    "    # that state is updated by appending returned messages, not replacing\n",
    "    # them.\n",
    "    messages: Annotated[list, add_messages]\n",
    "\n",
    "    # Flag indicating that the order is placed and completed.\n",
    "    finished: bool\n",
    "    \n",
    "# The system instruction defines how the chatbot is expected to behave and includes\n",
    "# rules for when to call different functions, as well as rules for the conversation, such\n",
    "# as tone and what is permitted for discussion.\n",
    "SYSTEM_INSTRUCTIONS = (\n",
    "    \"system\",  # 'system' indicates the message is a system instruction.\n",
    "    \"You are a Legal Advice Chat Bot, you provide users with concise, accurate, and Singapore-specific legal information and guidance related to business operations, compliance, and regulations. \"\n",
    "    \"A human will ask you about any questions they regarding the legal domain relating to business and you will answer any questions \"\n",
    "    \"they have (and only about questions in the legal domain regarding business - no off topic discussions) \"\n",
    "    \"Only provide legal information relevant to Singapore’s business laws, corporate regulations, and compliance requirements. \"\n",
    "    \"Avoid discussing laws or business practices from other jurisdictions unless explicitly asked for comparison, and clarify that it is outside Singapore's context.\"\n",
    "    \"\\n\\n\"\n",
    "    \"Provide general guidance on topics such as company incorporation, employment regulations, tax compliance, intellectual property (IP), contract law, and data protection in Singapore.\"\n",
    "    \"Avoid offering personalized legal advice, contract drafting, or reviews. Encourage users to consult qualified professionals for specific situations.\"\n",
    "    \"\\n\\n\"\n",
    "    \"Business-specific topics include: Company incorporation and legal structures (e.g., Sole Proprietorship, LLP, Pte Ltd), \"\n",
    "    \"Employment regulations under the Employment Act, \"\n",
    "    \"Tax compliance (e.g., GST registration, corporate income tax), \"\n",
    "    \"Licensing and permits for businesses, \"\n",
    "    \"Data privacy laws, including compliance with the Personal Data Protection Act (PDPA), \"\n",
    "    \"Commercial contract fundamentals and enforceability, \"\n",
    "    \"and IP rights, including trademarks, copyrights, and patents in Singapore.\"\n",
    "    \"\\n\\n\"\n",
    "    \"Use straightforward, business-friendly language. \"\n",
    "    \"Explain legal concepts with examples or simplified analogies when possible. \"\n",
    "    \"Provide links to official Singapore government resources (e.g., ACRA, IRAS, MOM) where applicable. \"\n",
    "    \"\\n\\n\"\n",
    "    \"Ensure responses are aligned with the latest Singaporean laws, regulations, and best practices. \"\n",
    "    \"If unsure of current laws, advise users to verify with government authorities or legal experts. \"\n",
    "    \"\\n\\n\"\n",
    "    \"Do not provide guidance that could facilitate illegal activities or tax evasion. \"\n",
    "    \"Avoid speculating on outcomes of legal disputes or offering advice that requires knowledge of specific business circumstances. \"\n",
    "    \"\\n\\n\"\n",
    "    \"Politely decline if a query falls outside Singapore’s legal context or business-related scope. Redirect users to appropriate resources or professionals. \"\n",
    "    \"Clearly state when information is general and not a substitute for professional legal counsel. \"\n",
    "    \"\\n\\n\"\n",
    "    'Examples of Accepted Queries: Topics the bot can assist with include \"How do I register a private limited company in Singapore?\" \"What are the requirements for hiring foreign employees?\" \"Do I need to register for GST if my business turnover exceeds $1 million?\" and \"What steps should I take to trademark my business logo?\"'\n",
    "    'Examples of Declined Queries: Requests such as “Can you draft a shareholders’ agreement for me?” or “What are corporate tax laws in Hong Kong?” will be declined politely, with users advised to consult professionals or explore suitable external resources. Similarly, unethical queries, such as “How can I avoid CPF contributions for employees?” will be met with a clear explanation of the legal obligations in Singapore.'\n",
    "    \"\\n\\n\"\n",
    "    \"You have some tools at your disposable to aid you in your tasking: \"\n",
    "    \"USE_VLM: utilize vlm's to interpret images \"\n",
    "    \"RAG_FROM_DATABASE: perform RAG on database to find additional previously ingested images \"\n",
    "    \"SEARCH_INTERNET: perform internet searching to find additional information \"\n",
    ")\n",
    "\n",
    "# This is the message with which the system opens the conversation.\n",
    "WELCOME_MSG = \"Welcome to the ASPER LOVERS LEGAL Bot. Type `q` to quit. How may I serve you today?\""
   ]
  },
  {
   "cell_type": "markdown",
   "metadata": {},
   "source": [
    "### LLM Model"
   ]
  },
  {
   "cell_type": "code",
   "execution_count": null,
   "metadata": {},
   "outputs": [],
   "source": [
    "# mistral hates me\n",
    "# we ball with llama3.1-405b instruct\n",
    "llm = ChatNVIDIA(model=\"meta/llama-3.1-405b-instruct\")"
   ]
  },
  {
   "cell_type": "markdown",
   "metadata": {},
   "source": [
    "### Nodes"
   ]
  },
  {
   "cell_type": "code",
   "execution_count": 50,
   "metadata": {},
   "outputs": [],
   "source": [
    "def human_node(state: Conversation) -> Conversation:\n",
    "    \"\"\"Display the last model message to the user, and receive the user's input.\"\"\"\n",
    "    last_msg = state[\"messages\"][-1]\n",
    "    print(\"Model:\", last_msg.content)\n",
    "\n",
    "    user_input = input(\"User: \")\n",
    "\n",
    "    # If it looks like the user is trying to quit, flag the conversation\n",
    "    # as over.\n",
    "    if user_input in {\"q\", \"quit\", \"exit\", \"goodbye\"}:\n",
    "        state[\"finished\"] = True\n",
    "\n",
    "    return state | {\"messages\": [(\"user\", user_input)]}\n",
    "\n",
    "def chatbot_with_tools(state: Conversation) -> Conversation:\n",
    "    \"\"\"The chatbot with tools. A simple wrapper around the model's own chat interface.\"\"\"\n",
    "    defaults = {\"order\": [], \"finished\": False}\n",
    "\n",
    "    if state[\"messages\"]:\n",
    "        new_output = llm_with_tools.invoke([SYSTEM_INSTRUCTIONS] + state[\"messages\"])\n",
    "    else:\n",
    "        new_output = AIMessage(content=WELCOME_MSG)\n",
    "\n",
    "    # Set up some defaults if not already set, then pass through the provided state,\n",
    "    # overriding only the \"messages\" field.\n",
    "    return defaults | state | {\"messages\": [new_output]}\n",
    "\n",
    "def maybe_exit_human_node(state: Conversation) -> Literal[\"chatbot\", \"__end__\"]:\n",
    "    \"\"\"Route to the chatbot, unless it looks like the user is exiting.\"\"\"\n",
    "    if state.get(\"finished\", False):\n",
    "        return END\n",
    "    else:\n",
    "        return \"chatbot\"\n",
    "    \n",
    "def maybe_route_to_tools(state: Conversation) -> Literal[\"tools\", \"human\"]:\n",
    "    \"\"\"Route between human or tool nodes, depending if a tool call is made.\"\"\"\n",
    "    if not (msgs := state.get(\"messages\", [])):\n",
    "        raise ValueError(f\"No messages found when parsing state: {state}\")\n",
    "\n",
    "    # Only route based on the last message.\n",
    "    msg = msgs[-1]\n",
    "\n",
    "    # When the chatbot returns tool_calls, route to the \"tools\" node.\n",
    "    if hasattr(msg, \"tool_calls\") and len(msg.tool_calls) > 0:\n",
    "        return \"tools\"\n",
    "    else:\n",
    "        return \"human\""
   ]
  },
  {
   "cell_type": "markdown",
   "metadata": {},
   "source": [
    "### Tools"
   ]
  },
  {
   "cell_type": "code",
   "execution_count": 58,
   "metadata": {},
   "outputs": [],
   "source": [
    "@tool\n",
    "def USE_VLM():\n",
    "    \"\"\"Tool for main controller model to utilise VLM capabilities to interpret with images\n",
    "\n",
    "    Returns:\n",
    "        PLACEHOLDDR: The description of what is in the image\n",
    "    \"\"\"\n",
    "    \n",
    "    PLACEHOLDER = \"\"\"Image is a blank white space\"\"\"\n",
    "    \n",
    "    return PLACEHOLDER\n",
    "\n",
    "@tool\n",
    "def RAG_FROM_DATABASE():\n",
    "    \"\"\"Tool for searching through database to search for prior ingested information\n",
    "    \n",
    "    Returns:\n",
    "        PLACEHOLDER: The prior ingested information\n",
    "    \"\"\"\n",
    "    PLACEHOLDER = \"\"\"Everything is Illegal\"\"\"\n",
    "    \n",
    "    return PLACEHOLDER\n",
    "\n",
    "@tool\n",
    "def SEARCH_INTERNET():\n",
    "    \"\"\"Tool for searching the internet in the event no relevant information can be found in ingested information database\n",
    "    \n",
    "    Returns:\n",
    "        PLACEHOlDER: Internet Information\n",
    "    \"\"\"\n",
    "    PLACEHOLDER = \"\"\"Internet Information\"\"\"\n",
    "    \n",
    "    return PLACEHOLDER"
   ]
  },
  {
   "cell_type": "markdown",
   "metadata": {},
   "source": [
    "### Define Tools"
   ]
  },
  {
   "cell_type": "code",
   "execution_count": 59,
   "metadata": {},
   "outputs": [],
   "source": [
    "# Define the tools and create a \"tools\" node.\n",
    "tools = [USE_VLM, RAG_FROM_DATABASE, SEARCH_INTERNET]\n",
    "tool_node = ToolNode(tools)\n",
    "\n",
    "# Attach the tools to the model so that it knows what it can call.\n",
    "llm_with_tools = llm.bind_tools(tools)"
   ]
  },
  {
   "cell_type": "markdown",
   "metadata": {},
   "source": [
    "### Graphs"
   ]
  },
  {
   "cell_type": "code",
   "execution_count": null,
   "metadata": {},
   "outputs": [
    {
     "data": {
      "image/png": "[encoded data removed]",
      "text/plain": [
       "<IPython.core.display.Image object>"
      ]
     },
     "execution_count": 60,
     "metadata": {},
     "output_type": "execute_result"
    }
   ],
   "source": [
    "graph_builder = StateGraph(Conversation)\n",
    "\n",
    "# Add the nodes, including the new tool_node.\n",
    "graph_builder.add_node(\"chatbot\", chatbot_with_tools)\n",
    "graph_builder.add_node(\"human\", human_node)\n",
    "graph_builder.add_node(\"tools\", tool_node)\n",
    "\n",
    "# Chatbot may go to tools, or human.\n",
    "graph_builder.add_conditional_edges(\"chatbot\", maybe_route_to_tools)\n",
    "# Human may go back to chatbot, or exit.\n",
    "graph_builder.add_conditional_edges(\"human\", maybe_exit_human_node)\n",
    "\n",
    "# Tools always route back to chat afterwards.\n",
    "graph_builder.add_edge(\"tools\", \"chatbot\")\n",
    "\n",
    "graph_builder.add_edge(START, \"chatbot\")\n",
    "test_graphs = graph_builder.compile()\n",
    "\n",
    "Image(test_graphs.get_graph().draw_mermaid_png())"
   ]
  },
  {
   "cell_type": "code",
   "execution_count": null,
   "metadata": {},
   "outputs": [
    {
     "name": "stdout",
     "output_type": "stream",
     "text": [
      "Model: Welcome to the ASPER LOVERS LEGAL Bot. Type `q` to quit. How may I serve you today?\n",
      "Model: If you ask me a question that I don't have information on, I'll do my best to find the answer for you. Here are the steps I'll take:\n",
      "\n",
      "1. **Check my training data**: I'll review my training data to see if I have any relevant information that might be related to your question.\n",
      "2. **Search the internet**: If I don't have the information in my training data, I'll search the internet to find relevant and credible sources that can help me answer your question.\n",
      "3. **Check Singapore government websites**: As a Legal Advice Chat Bot focused on Singapore's business laws and regulations, I'll also check official Singapore government websites, such as ACRA, IRAS, and MOM, to find relevant information.\n",
      "4. **Use my tools**: I have access to a few tools, such as USE_VLM, RAG_FROM_DATABASE, and SEARCH_INTERNET, which I can use to find more information or verify the accuracy of what I've found.\n",
      "5. **Provide an answer or guidance**: If I've found relevant information, I'll do my best to provide a clear and concise answer to your question. If I'm still unsure or can't find the information, I'll let you know and suggest possible next steps or resources where you may be able to find the answer.\n",
      "6. **Advise consulting a professional**: If your question requires personalized legal advice or is outside my scope of knowledge, I'll advise you to consult a qualified professional or lawyer who can provide more specific guidance tailored to your situation.\n",
      "\n",
      "Please keep in mind that my primary goal is to provide general guidance and information on Singapore's business laws and regulations. If your question requires more specialized or specific advice, I'll always recommend consulting a professional.\n",
      "Model: If I need to find more information or verify the accuracy of what I've found, I may use one of the following tools:\n",
      "\n",
      "1. **USE_VLM**: This tool allows me to utilize Visual Language Model (VLM) capabilities to interpret images and provide a description of what's in the image.\n",
      "2. **RAG_FROM_DATABASE**: This tool enables me to search through a database to find prior ingested information related to your question.\n",
      "3. **SEARCH_INTERNET**: This tool allows me to search the internet to find relevant information related to your question.\n",
      "\n",
      "Please note that I'll only use these tools if I believe they can provide relevant and accurate information to help answer your question.\n",
      "Model: If I need to find information, I will use the RAG_FROM_DATABASE tool first. If I don't find what I'm looking for, I will then use the SEARCH_INTERNET tool.\n"
     ]
    }
   ],
   "source": [
    "state = test_graphs.invoke({\"messages\": []})"
   ]
  }
 ],
 "metadata": {
  "kernelspec": {
   "display_name": "venv",
   "language": "python",
   "name": "python3"
  },
  "language_info": {
   "codemirror_mode": {
    "name": "ipython",
    "version": 3
   },
   "file_extension": ".py",
   "mimetype": "text/x-python",
   "name": "python",
   "nbconvert_exporter": "python",
   "pygments_lexer": "ipython3",
   "version": "3.11.9"
  }
 },
 "nbformat": 4,
 "nbformat_minor": 2
}
